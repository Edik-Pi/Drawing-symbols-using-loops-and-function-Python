{
 "cells": [
  {
   "cell_type": "code",
   "execution_count": 106,
   "metadata": {},
   "outputs": [
    {
     "name": "stdout",
     "output_type": "stream",
     "text": [
      "* \n",
      "* * \n",
      "* * * \n",
      "* * * * \n",
      "* * * * * \n",
      "* * * * * * \n"
     ]
    }
   ],
   "source": [
    "# Right triangle-left\n",
    "\n",
    "row=6 \n",
    "for i in range(0,row):\n",
    "    for j in range(0,i+1):\n",
    "        \n",
    "        print(\"* \",end=\"\")\n",
    "    print(\"\")"
   ]
  },
  {
   "cell_type": "code",
   "execution_count": 107,
   "metadata": {},
   "outputs": [],
   "source": [
    "# Right triangle-Left \"function\"\n",
    "\n",
    "def RT_left(n):\n",
    "    for row in range(0,n):\n",
    "        for stars in range(0,row+1):\n",
    "         \n",
    "            print(\"* \",end=\"\")\n",
    "        print(\"\")"
   ]
  },
  {
   "cell_type": "code",
   "execution_count": 101,
   "metadata": {},
   "outputs": [
    {
     "name": "stdout",
     "output_type": "stream",
     "text": [
      "*  \n",
      "* *  \n",
      "* * *  \n",
      "* * * *  \n",
      "* * * * *  \n",
      "* * * * * *  \n"
     ]
    }
   ],
   "source": [
    "RT_left(6)"
   ]
  },
  {
   "cell_type": "code",
   "execution_count": 110,
   "metadata": {},
   "outputs": [
    {
     "name": "stdout",
     "output_type": "stream",
     "text": [
      "          * \n",
      "        * * \n",
      "      * * * \n",
      "    * * * * \n",
      "  * * * * * \n",
      "* * * * * * \n"
     ]
    }
   ],
   "source": [
    "# Right triangle-Right\n",
    "\n",
    "row=int(6)\n",
    "space=(row-1)*2\n",
    "for i in range(0,row):\n",
    "    for j in range(0,space):\n",
    "        print(\" \", end=\"\")\n",
    "    for j in range(0, i+1):\n",
    "        print(\"* \", end=\"\")\n",
    "    space=space-2\n",
    "\n",
    "    print(\"\")"
   ]
  },
  {
   "cell_type": "code",
   "execution_count": 111,
   "metadata": {},
   "outputs": [],
   "source": [
    "# Right triangle-Right \"function\"\n",
    "\n",
    "def RT_right(row):\n",
    "    #row2=int(6)\n",
    "    space=(row-1)*2\n",
    "    for i in range(0,row):\n",
    "        for j in range(0,space):\n",
    "            print(\" \", end=\"\")\n",
    "        for j in range(0, i+1):\n",
    "            print(\"* \", end=\"\")\n",
    "        space=space-2\n",
    "\n",
    "        print(\"\")"
   ]
  },
  {
   "cell_type": "code",
   "execution_count": 112,
   "metadata": {},
   "outputs": [
    {
     "name": "stdout",
     "output_type": "stream",
     "text": [
      "          * \n",
      "        * * \n",
      "      * * * \n",
      "    * * * * \n",
      "  * * * * * \n",
      "* * * * * * \n"
     ]
    }
   ],
   "source": [
    "RT_right(6)"
   ]
  },
  {
   "cell_type": "code",
   "execution_count": 113,
   "metadata": {},
   "outputs": [
    {
     "name": "stdout",
     "output_type": "stream",
     "text": [
      "* * * * * *  \n",
      "* * * * *   \n",
      "* * * *    \n",
      "* * *     \n",
      "* *      \n",
      "*       \n"
     ]
    }
   ],
   "source": [
    "# Right triangle upside down-Left\n",
    "\n",
    "row=6\n",
    "#space=row-1\n",
    "for i in range(0,row):\n",
    "    for j in range (0, row-i):\n",
    "        print(\"* \",end= \"\")\n",
    "    for j in range(0,i+1):\n",
    "        print(\" \",end=\"\")\n",
    "    #space=space-1\n",
    "    print(\"\")"
   ]
  },
  {
   "cell_type": "code",
   "execution_count": 114,
   "metadata": {},
   "outputs": [],
   "source": [
    "# Right triangle upside down-Left \"function\"\n",
    "\n",
    "def RT_UpsideDownLeft(row):\n",
    "    #space=row-1\n",
    "    for i in range(0,row):\n",
    "        for j in range (0, row-i):\n",
    "            print(\"* \",end= \"\")\n",
    "        for j in range(0,i+1):\n",
    "            print(\" \",end=\"\")\n",
    "        #space=space-1\n",
    "        print(\"\")"
   ]
  },
  {
   "cell_type": "code",
   "execution_count": 142,
   "metadata": {},
   "outputs": [
    {
     "name": "stdout",
     "output_type": "stream",
     "text": [
      "* * * * * *  \n",
      "* * * * *   \n",
      "* * * *    \n",
      "* * *     \n",
      "* *      \n",
      "*       \n"
     ]
    }
   ],
   "source": [
    "RT_UpsideDownLeft(6)"
   ]
  },
  {
   "cell_type": "code",
   "execution_count": 189,
   "metadata": {},
   "outputs": [
    {
     "name": "stdout",
     "output_type": "stream",
     "text": [
      "          \n",
      "        \n",
      "*       \n",
      "* *     \n",
      "* * *   \n",
      "* * * * \n"
     ]
    }
   ],
   "source": [
    "# Right triangle upside down-Right\n",
    "row=6\n",
    "space=(row-1)*2\n",
    "for i in range(0,row):\n",
    "    for j in range(0, i-1):\n",
    "        print(\"* \", end=\"\")\n",
    "    for j in range(0,space):\n",
    "        print(\" \",end=\"\")\n",
    "\n",
    "    \n",
    "    \"\"\"for j in range (0, space):\n",
    "        print(\" \",end= \"\")\n",
    "    for j in range(0,i-1):\n",
    "        print(\" \",end=\"\")\"\"\"\n",
    "  \n",
    "    space=space-2\n",
    "    print(\"\")"
   ]
  },
  {
   "cell_type": "code",
   "execution_count": 185,
   "metadata": {},
   "outputs": [],
   "source": [
    "# Right triangle upside down-Right \"function\"\n",
    "\n",
    "def RT_UpsideDownRight(row): \n",
    "    #row=int(6)\n",
    "    space=(row+1)\n",
    "    for i in range(0,row):\n",
    "        for j in range(0, i):\n",
    "            print(\" \", end=\"\")\n",
    "        for j in range(0,space-1):\n",
    "            print(\"* \", end=\"\")\n",
    "        space=space-1\n",
    "\n",
    "        print(\"\")"
   ]
  },
  {
   "cell_type": "code",
   "execution_count": 97,
   "metadata": {},
   "outputs": [
    {
     "name": "stdout",
     "output_type": "stream",
     "text": [
      "* * * * * * \n",
      " * * * * * \n",
      "  * * * * \n",
      "   * * * \n",
      "    * * \n",
      "     * \n"
     ]
    }
   ],
   "source": [
    "RT_UpsideDownRight(6)"
   ]
  },
  {
   "cell_type": "code",
   "execution_count": 86,
   "metadata": {},
   "outputs": [
    {
     "name": "stdout",
     "output_type": "stream",
     "text": [
      "     * \n",
      "    * * \n",
      "   * * * \n",
      "  * * * * \n",
      " * * * * * \n",
      "* * * * * * \n"
     ]
    }
   ],
   "source": [
    "# Equilateral triangle\n",
    "\n",
    "row=int(6)\n",
    "space=(row-1)\n",
    "for i in range(0,row):\n",
    "    for j in range(0, space):\n",
    "        print(\" \", end=\"\")\n",
    "    for j in range(0,i+1):\n",
    "        print(\"* \", end=\"\")\n",
    "    space=space-1\n",
    "\n",
    "    print(\"\")"
   ]
  },
  {
   "cell_type": "code",
   "execution_count": 208,
   "metadata": {},
   "outputs": [],
   "source": [
    "# Equilateral triangle \"function\"\n",
    "\n",
    "def Equilateral_T(row):\n",
    "#row=int(6)\n",
    "    space=row-1\n",
    "    for i in range(0,row):\n",
    "        for j in range(0, space):\n",
    "            print(\" \", end=\"\")\n",
    "        for j in range(0,i+1):\n",
    "            print(\"* \", end=\"\")\n",
    "        space=space-1\n",
    "\n",
    "        print(\"\")"
   ]
  },
  {
   "cell_type": "code",
   "execution_count": 209,
   "metadata": {},
   "outputs": [
    {
     "name": "stdout",
     "output_type": "stream",
     "text": [
      "     * \n",
      "    * * \n",
      "   * * * \n",
      "  * * * * \n",
      " * * * * * \n",
      "* * * * * * \n"
     ]
    }
   ],
   "source": [
    "Equilateral_T(6)"
   ]
  },
  {
   "cell_type": "code",
   "execution_count": 201,
   "metadata": {},
   "outputs": [
    {
     "name": "stdout",
     "output_type": "stream",
     "text": [
      " * * * * * \n",
      "  * * * * \n",
      "   * * * \n",
      "    * * \n",
      "     * \n",
      "      \n"
     ]
    }
   ],
   "source": [
    "# Equilateral_T Upside Down\n",
    "\n",
    "row=int(6)\n",
    "space=row-1\n",
    "for i in range(0,row):\n",
    "    for j in range(0,i+1):\n",
    "        print(\" \", end=\"\")\n",
    "    for j in range(0, space):\n",
    "        print(\"* \", end=\"\")\n",
    "   \n",
    "    space=space-1\n",
    "\n",
    "    print(\"\")"
   ]
  },
  {
   "cell_type": "code",
   "execution_count": 196,
   "metadata": {},
   "outputs": [],
   "source": [
    "# Equilateral_T Upside Down \"function\"\n",
    "\n",
    "def Equilateral_TUpsideDown(row):\n",
    "#row=int(6)\n",
    "    space=row+1\n",
    "    for i in range(0,row):\n",
    "        for j in range(0,i+1):\n",
    "            print(\" \", end=\"\")\n",
    "        for j in range(0, space):\n",
    "            print(\"* \", end=\"\")\n",
    "   \n",
    "        space=space-1\n",
    "        print(\"\")"
   ]
  },
  {
   "cell_type": "code",
   "execution_count": 197,
   "metadata": {},
   "outputs": [
    {
     "name": "stdout",
     "output_type": "stream",
     "text": [
      " * * * * * \n",
      "  * * * * \n",
      "   * * * \n",
      "    * * \n",
      "     * \n",
      "      \n"
     ]
    }
   ],
   "source": [
    "Equilateral_TUpsideDown(6)"
   ]
  },
  {
   "cell_type": "code",
   "execution_count": null,
   "metadata": {},
   "outputs": [],
   "source": []
  }
 ],
 "metadata": {
  "kernelspec": {
   "display_name": "Python 3",
   "language": "python",
   "name": "python3"
  },
  "language_info": {
   "codemirror_mode": {
    "name": "ipython",
    "version": 3
   },
   "file_extension": ".py",
   "mimetype": "text/x-python",
   "name": "python",
   "nbconvert_exporter": "python",
   "pygments_lexer": "ipython3",
   "version": "3.8.5"
  }
 },
 "nbformat": 4,
 "nbformat_minor": 4
}
